{
 "cells": [
  {
   "cell_type": "code",
   "execution_count": 41,
   "metadata": {},
   "outputs": [],
   "source": [
    "import pandas as pd\n",
    "import json as js\n",
    "import csv\n",
    "import matplotlib.pyplot as plt\n",
    "import numpy as np\n",
    "import math as m\n",
    "import seaborn as sns"
   ]
  },
  {
   "cell_type": "code",
   "execution_count": 42,
   "metadata": {},
   "outputs": [
    {
     "name": "stderr",
     "output_type": "stream",
     "text": [
      "<>:12: SyntaxWarning: invalid escape sequence '\\&'\n",
      "<>:12: SyntaxWarning: invalid escape sequence '\\&'\n",
      "/tmp/ipykernel_119895/242227366.py:12: SyntaxWarning: invalid escape sequence '\\&'\n",
      "  data[task] = data[task].rename(index={'Total Working': 'Total Working \\& Accurate', 'Total Working & Accurate': 'Total Working'})\n"
     ]
    },
    {
     "data": {
      "text/html": [
       "<div>\n",
       "<style scoped>\n",
       "    .dataframe tbody tr th:only-of-type {\n",
       "        vertical-align: middle;\n",
       "    }\n",
       "\n",
       "    .dataframe tbody tr th {\n",
       "        vertical-align: top;\n",
       "    }\n",
       "\n",
       "    .dataframe thead th {\n",
       "        text-align: right;\n",
       "    }\n",
       "</style>\n",
       "<table border=\"1\" class=\"dataframe\">\n",
       "  <thead>\n",
       "    <tr style=\"text-align: right;\">\n",
       "      <th></th>\n",
       "      <th>DSPy</th>\n",
       "      <th>LMQL</th>\n",
       "      <th>MTLLM</th>\n",
       "    </tr>\n",
       "  </thead>\n",
       "  <tbody>\n",
       "    <tr>\n",
       "      <th>Total Working \\&amp; Accurate</th>\n",
       "      <td>6</td>\n",
       "      <td>1</td>\n",
       "      <td>12</td>\n",
       "    </tr>\n",
       "    <tr>\n",
       "      <th>Total Working</th>\n",
       "      <td>4</td>\n",
       "      <td>2</td>\n",
       "      <td>0</td>\n",
       "    </tr>\n",
       "    <tr>\n",
       "      <th>Total Not Working</th>\n",
       "      <td>9</td>\n",
       "      <td>12</td>\n",
       "      <td>7</td>\n",
       "    </tr>\n",
       "    <tr>\n",
       "      <th>Total No Code Submitted</th>\n",
       "      <td>1</td>\n",
       "      <td>5</td>\n",
       "      <td>1</td>\n",
       "    </tr>\n",
       "  </tbody>\n",
       "</table>\n",
       "</div>"
      ],
      "text/plain": [
       "                           DSPy  LMQL  MTLLM\n",
       "Total Working \\& Accurate     6     1     12\n",
       "Total Working                 4     2      0\n",
       "Total Not Working             9    12      7\n",
       "Total No Code Submitted       1     5      1"
      ]
     },
     "execution_count": 42,
     "metadata": {},
     "output_type": "execute_result"
    }
   ],
   "source": [
    "data = {}\n",
    "tasks = ['Essay Evaluator','Task Manager', 'Map Generator']\n",
    "for task in tasks:\n",
    "    data[task] = pd.read_csv(task +'.csv', index_col=0)\n",
    "    \n",
    "    row_1 = list(data[task].loc['Total Working'])\n",
    "    row_2 = list(data[task].loc['Total Working & Accurate'])\n",
    "\n",
    "    data[task].loc['Total Working'] = row_2\n",
    "    data[task].loc['Total Working & Accurate'] = row_1\n",
    "\n",
    "    data[task] = data[task].rename(index={'Total Working': 'Total Working \\& Accurate', 'Total Working & Accurate': 'Total Working'})\n",
    "\n",
    "data['Essay Evaluator']"
   ]
  },
  {
   "cell_type": "code",
   "execution_count": 43,
   "metadata": {},
   "outputs": [],
   "source": [
    "for task in tasks:\n",
    "    data[task] = data[task].drop('Total No Code Submitted')\n",
    "    data[task] = data[task].div(data[task].sum())"
   ]
  },
  {
   "cell_type": "code",
   "execution_count": 44,
   "metadata": {},
   "outputs": [],
   "source": [
    "# # Combine all data into a single DataFrame for plotting\n",
    "# combined_data = pd.concat(data, axis=1)\n",
    "# combined_data.columns = pd.MultiIndex.from_tuples(combined_data.columns)\n",
    "# combined_data"
   ]
  },
  {
   "cell_type": "code",
   "execution_count": 45,
   "metadata": {},
   "outputs": [],
   "source": [
    "# # Plotting\n",
    "\n",
    "# plt.figure(figsize=(10, 7))\n",
    "# combined_data.plot(kind='bar', stacked=True, colormap='tab20', ax=plt.gca())\n",
    "# plt.show()\n",
    "\n"
   ]
  },
  {
   "cell_type": "code",
   "execution_count": 46,
   "metadata": {},
   "outputs": [],
   "source": [
    "plt.rcParams.update({\n",
    "    \"text.usetex\": True,\n",
    "    \"font.family\": \"serif\",\n",
    "    \"font.serif\": \"Times New Roman\",\n",
    "})"
   ]
  },
  {
   "cell_type": "code",
   "execution_count": 47,
   "metadata": {},
   "outputs": [
    {
     "data": {
      "image/png": "[encoded data removed]",
      "text/plain": [
       "<Figure size 1000x300 with 3 Axes>"
      ]
     },
     "metadata": {},
     "output_type": "display_data"
    }
   ],
   "source": [
    "fig, axes = plt.subplots(1, 3, figsize=(10, 3))\n",
    "\n",
    "for i,task in enumerate(data.keys()):\n",
    "    # percentage_data = data[task].apply(lambda x: x / 20, axis=1).T\n",
    "    data[task].T.plot(kind='bar', stacked=True, colormap='ocean', ax=axes[i], title=task, edgecolor='black', linewidth=1.0)\n",
    "    axes[i].legend().remove()\n",
    "    axes[i].set_xticklabels(axes[i].get_xticklabels(), rotation=45, ha='right')\n",
    "    \n",
    "legends = data['Essay Evaluator'].T.keys()\n",
    "legends = [legend.replace('Total ', '') for legend in legends]\n",
    "fig.legend(legends, loc='center right',shadow=True, fontsize='small', bbox_to_anchor=(1.08, 0.5))\n",
    "fig.text(0.5, -0.15, r'\\textbf{LLM Programming Framework}', ha='center', va='center',fontsize=12)\n",
    "fig.text(0.07, 0.5, r'\\textbf{Number of Participants}', ha='center', va='center', rotation='vertical', fontsize=12)\n",
    "plt.savefig('user_study_code_summary.png', dpi=300, bbox_inches='tight')\n",
    "plt.show()\n",
    "\n",
    "\n",
    "\n",
    "\n"
   ]
  }
 ],
 "metadata": {
  "kernelspec": {
   "display_name": "ipy",
   "language": "python",
   "name": "python3"
  },
  "language_info": {
   "codemirror_mode": {
    "name": "ipython",
    "version": 3
   },
   "file_extension": ".py",
   "mimetype": "text/x-python",
   "name": "python",
   "nbconvert_exporter": "python",
   "pygments_lexer": "ipython3",
   "version": "3.12.3"
  }
 },
 "nbformat": 4,
 "nbformat_minor": 2
}
