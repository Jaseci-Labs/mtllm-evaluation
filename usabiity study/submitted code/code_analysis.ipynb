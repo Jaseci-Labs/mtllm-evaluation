{
 "cells": [
  {
   "cell_type": "code",
   "execution_count": 1,
   "metadata": {},
   "outputs": [],
   "source": [
    "import pandas as pd\n",
    "import json as js\n",
    "import csv\n",
    "import matplotlib.pyplot as plt\n",
    "import numpy as np\n",
    "import math as m\n",
    "import seaborn as sns"
   ]
  },
  {
   "cell_type": "code",
   "execution_count": 2,
   "metadata": {},
   "outputs": [
    {
     "data": {
      "text/html": [
       "<div>\n",
       "<style scoped>\n",
       "    .dataframe tbody tr th:only-of-type {\n",
       "        vertical-align: middle;\n",
       "    }\n",
       "\n",
       "    .dataframe tbody tr th {\n",
       "        vertical-align: top;\n",
       "    }\n",
       "\n",
       "    .dataframe thead th {\n",
       "        text-align: right;\n",
       "    }\n",
       "</style>\n",
       "<table border=\"1\" class=\"dataframe\">\n",
       "  <thead>\n",
       "    <tr style=\"text-align: right;\">\n",
       "      <th></th>\n",
       "      <th>LMQL</th>\n",
       "      <th>DSPy</th>\n",
       "      <th>MTLLM</th>\n",
       "    </tr>\n",
       "  </thead>\n",
       "  <tbody>\n",
       "    <tr>\n",
       "      <th>Total Pass</th>\n",
       "      <td>1</td>\n",
       "      <td>6</td>\n",
       "      <td>12</td>\n",
       "    </tr>\n",
       "    <tr>\n",
       "      <th>Total Fail</th>\n",
       "      <td>2</td>\n",
       "      <td>4</td>\n",
       "      <td>0</td>\n",
       "    </tr>\n",
       "    <tr>\n",
       "      <th>Total Not Working</th>\n",
       "      <td>12</td>\n",
       "      <td>9</td>\n",
       "      <td>7</td>\n",
       "    </tr>\n",
       "    <tr>\n",
       "      <th>Total No Code Submitted</th>\n",
       "      <td>5</td>\n",
       "      <td>1</td>\n",
       "      <td>1</td>\n",
       "    </tr>\n",
       "  </tbody>\n",
       "</table>\n",
       "</div>"
      ],
      "text/plain": [
       "                         LMQL  DSPy  MTLLM\n",
       "Total Pass                  1     6     12\n",
       "Total Fail                  2     4      0\n",
       "Total Not Working          12     9      7\n",
       "Total No Code Submitted     5     1      1"
      ]
     },
     "execution_count": 2,
     "metadata": {},
     "output_type": "execute_result"
    }
   ],
   "source": [
    "data = {}\n",
    "tasks = ['Essay Evaluator','Task Manager', 'Map Generator']\n",
    "for task in tasks:\n",
    "    data[task] = pd.read_csv(task +'.csv', index_col=0)\n",
    "    \n",
    "    row_1 = list(data[task].loc['Total Working'])\n",
    "    row_2 = list(data[task].loc['Total Working & Accurate'])\n",
    "\n",
    "    data[task].loc['Total Working'] = row_2\n",
    "    data[task].loc['Total Working & Accurate'] = row_1\n",
    "\n",
    "    data[task] = data[task].rename(index={'Total Working': 'Total Pass', \n",
    "                                          'Total Working & Accurate': 'Total Fail'})\n",
    "    data[task] = data[task][['LMQL','DSPy','MTLLM']]\n",
    "\n",
    "data['Essay Evaluator']"
   ]
  },
  {
   "cell_type": "code",
   "execution_count": 3,
   "metadata": {},
   "outputs": [
    {
     "data": {
      "text/html": [
       "<div>\n",
       "<style scoped>\n",
       "    .dataframe tbody tr th:only-of-type {\n",
       "        vertical-align: middle;\n",
       "    }\n",
       "\n",
       "    .dataframe tbody tr th {\n",
       "        vertical-align: top;\n",
       "    }\n",
       "\n",
       "    .dataframe thead th {\n",
       "        text-align: right;\n",
       "    }\n",
       "</style>\n",
       "<table border=\"1\" class=\"dataframe\">\n",
       "  <thead>\n",
       "    <tr style=\"text-align: right;\">\n",
       "      <th></th>\n",
       "      <th>Total Pass</th>\n",
       "    </tr>\n",
       "  </thead>\n",
       "  <tbody>\n",
       "    <tr>\n",
       "      <th>LMQL</th>\n",
       "      <td>5.0</td>\n",
       "    </tr>\n",
       "    <tr>\n",
       "      <th>DSPy</th>\n",
       "      <td>30.0</td>\n",
       "    </tr>\n",
       "    <tr>\n",
       "      <th>MTLLM</th>\n",
       "      <td>60.0</td>\n",
       "    </tr>\n",
       "  </tbody>\n",
       "</table>\n",
       "</div>"
      ],
      "text/plain": [
       "       Total Pass\n",
       "LMQL          5.0\n",
       "DSPy         30.0\n",
       "MTLLM        60.0"
      ]
     },
     "execution_count": 3,
     "metadata": {},
     "output_type": "execute_result"
    }
   ],
   "source": [
    "for task in tasks:\n",
    "    data[task].loc['Total Fail'] = data[task].loc['Total Not Working']+data[task].loc['Total Fail']+data[task].loc['Total No Code Submitted']\n",
    "    data[task] = data[task].drop(['Total Not Working', 'Total No Code Submitted'])\n",
    "    data[task] = (data[task]/20)*100\n",
    "    data[task] = data[task].drop('Total Fail')\n",
    "\n",
    "data['Essay Evaluator'].T"
   ]
  },
  {
   "cell_type": "code",
   "execution_count": 7,
   "metadata": {},
   "outputs": [],
   "source": [
    "plt.rcParams.update({\n",
    "    \"text.usetex\": True,\n",
    "    \"font.family\": \"serif\",\n",
    "    \"font.serif\": \"Times New Roman\",\n",
    "})\n",
    "\n",
    "\n",
    "plt.rcParams[\"text.usetex\"] = False\n",
    "plt.rcParams[\"font.family\"] = \"sans-serif\"\n",
    "plt.rcParams[\"font.sans-serif\"] = [\"Arial\"]"
   ]
  },
  {
   "cell_type": "code",
   "execution_count": 18,
   "metadata": {},
   "outputs": [
    {
     "name": "stderr",
     "output_type": "stream",
     "text": [
      "No artists with labels found to put in legend.  Note that artists whose label start with an underscore are ignored when legend() is called with no argument.\n",
      "/var/folders/c_/hm8lg21n1h5d5pltsc86x1j00000gn/T/ipykernel_71412/1223096982.py:18: UserWarning: set_ticklabels() should only be used with a fixed number of ticks, i.e. after set_ticks() or using a FixedLocator.\n",
      "  axes[i].set_xticklabels(xtick_labels, rotation=45, ha=\"right\")\n",
      "No artists with labels found to put in legend.  Note that artists whose label start with an underscore are ignored when legend() is called with no argument.\n",
      "/var/folders/c_/hm8lg21n1h5d5pltsc86x1j00000gn/T/ipykernel_71412/1223096982.py:18: UserWarning: set_ticklabels() should only be used with a fixed number of ticks, i.e. after set_ticks() or using a FixedLocator.\n",
      "  axes[i].set_xticklabels(xtick_labels, rotation=45, ha=\"right\")\n",
      "No artists with labels found to put in legend.  Note that artists whose label start with an underscore are ignored when legend() is called with no argument.\n",
      "/var/folders/c_/hm8lg21n1h5d5pltsc86x1j00000gn/T/ipykernel_71412/1223096982.py:18: UserWarning: set_ticklabels() should only be used with a fixed number of ticks, i.e. after set_ticks() or using a FixedLocator.\n",
      "  axes[i].set_xticklabels(xtick_labels, rotation=45, ha=\"right\")\n"
     ]
    },
    {
     "name": "stdout",
     "output_type": "stream",
     "text": [
      "Text(0, 0, 'LMQL')\n",
      "Text(0, 0, 'LMQL')\n",
      "Text(1, 0, 'DSPy')\n",
      "Text(1, 0, 'DSPy')\n",
      "Text(2, 0, 'MTLLM')\n",
      "Text(2, 0, 'MTP')\n",
      "Text(0, 0, 'LMQL')\n",
      "Text(0, 0, 'LMQL')\n",
      "Text(1, 0, 'DSPy')\n",
      "Text(1, 0, 'DSPy')\n",
      "Text(2, 0, 'MTLLM')\n",
      "Text(2, 0, 'MTP')\n",
      "Text(0, 0, 'LMQL')\n",
      "Text(0, 0, 'LMQL')\n",
      "Text(1, 0, 'DSPy')\n",
      "Text(1, 0, 'DSPy')\n",
      "Text(2, 0, 'MTLLM')\n",
      "Text(2, 0, 'MTP')\n"
     ]
    },
    {
     "data": {
      "image/png": "[encoded data removed]",
      "text/plain": [
       "<Figure size 600x300 with 3 Axes>"
      ]
     },
     "metadata": {},
     "output_type": "display_data"
    }
   ],
   "source": [
    "fig, axes = plt.subplots(1, 3, figsize=(6, 3))\n",
    "\n",
    "for i,task in enumerate(data.keys()):\n",
    "    df = data[task].T\n",
    "    colors = plt.cm.RdYlGn(np.linspace(0, 1, len(df)))\n",
    "    # data[task].T.plot(kind='bar', stacked=True, colormap='RdYlGn_r', ax=axes[i], title=task, edgecolor='black', linewidth=1.0, fontsize=14)\n",
    "    bars = axes[i].bar(df.index, df['Total Pass'], color=colors, edgecolor='black', linewidth=1.0,)\n",
    "    axes[i].set_title(task)\n",
    "    axes[i].legend().remove()\n",
    "    # xtick_labels = [\"MTP\" if j == \"MTLLM\" else j for j in axes[i].get_xticklabels()]\n",
    "    xtick_labels = []\n",
    "    for j in axes[i].get_xticklabels():\n",
    "        print(j)\n",
    "        if j.get_text() == 'MTLLM':\n",
    "            j.set_text('MTP')\n",
    "        print(j)\n",
    "        xtick_labels.append(j)\n",
    "    axes[i].set_xticklabels(xtick_labels, rotation=45, ha=\"right\")\n",
    "    axes[i].grid(axis='y',linestyle='--', linewidth=0.5)\n",
    "    axes[i].set_ylim(0,65)\n",
    "\n",
    "legends = data['Essay Evaluator'].T.keys()\n",
    "legends = [legend.replace('Total ', '') for legend in legends]\n",
    "# fig.legend(legends, loc='upper center',shadow=True, fontsize=14, bbox_to_anchor=(0.5, 1.13), ncol=2)\n",
    "# fig.text(0.5, -0.15, r'\\textbf{LLM Programming Framework}', ha='center', va='center',fontsize=12)\n",
    "fig.text(0.07, 0.5, r'Success Rate($\\%$)', ha='center', va='center', rotation='vertical', fontsize=14)\n",
    "plt.savefig('user_study_code_summary.pdf', dpi=300, bbox_inches='tight')\n",
    "plt.show()"
   ]
  }
 ],
 "metadata": {
  "kernelspec": {
   "display_name": "Python 3",
   "language": "python",
   "name": "python3"
  },
  "language_info": {
   "codemirror_mode": {
    "name": "ipython",
    "version": 3
   },
   "file_extension": ".py",
   "mimetype": "text/x-python",
   "name": "python",
   "nbconvert_exporter": "python",
   "pygments_lexer": "ipython3",
   "version": "3.12.1"
  }
 },
 "nbformat": 4,
 "nbformat_minor": 2
}
